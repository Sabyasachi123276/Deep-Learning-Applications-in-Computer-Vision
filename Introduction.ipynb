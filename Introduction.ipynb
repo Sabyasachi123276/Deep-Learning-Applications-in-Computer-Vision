{
  "cells": [
    {
      "cell_type": "markdown",
      "metadata": {
        "origin_pos": 0,
        "id": "8fniIV-w84GG"
      },
      "source": [
        "# Computer Vision\n",
        "\n",
        "Whether it is medical diagnosis, self-driving vehicles, camera monitoring, or smart filters, many applications in the field of computer vision are closely related to our current and future lives.\n",
        "In recent years, deep learning has been\n",
        "the transformative power for advancing the performance of computer vision systems.\n",
        "It can be said that the most advanced computer vision applications are almost inseparable from deep learning.\n",
        "In view of this, this session will focus on the field of computer vision, and investigate methods and applications that have recently been influential in academia and industry.\n",
        "\n",
        "\n",
        "We require to have the knowledge on various convolutional neural networks as they have extensive applications in computer vision followed by applying them\n",
        "for the simple image classification tasks.\n",
        "\n",
        "At the beginning of this session, we shall discuss\n",
        "two methods that may improve model generalization, namely *image augmentation* and *fine-tuning*, and apply them to image classification.\n",
        "Since deep neural networks can effectively represent images in multiple levels, such layerwise representations have been successfully used in various computer vision tasks for instance *object detection*, *semantic segmentation*, and *style transfer*.\n",
        "Following the key idea of leveraging layerwise representations in computer vision, we shall begin with major components and techniques for object detection. Next, we shall show how to use *fully convolutional networks* for semantic segmentation of images. Then we shall explain how to use style transfer techniques to generate images at the end of the session.\n",
        "\n"
      ]
    }
  ],
  "metadata": {
    "language_info": {
      "name": "python"
    },
    "colab": {
      "provenance": []
    }
  },
  "nbformat": 4,
  "nbformat_minor": 0
}